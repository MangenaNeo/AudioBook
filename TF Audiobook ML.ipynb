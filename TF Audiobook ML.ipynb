{
 "cells": [
  {
   "cell_type": "code",
   "execution_count": 1,
   "metadata": {},
   "outputs": [],
   "source": [
    "import numpy as np\n",
    "import tensorflow as tf"
   ]
  },
  {
   "cell_type": "code",
   "execution_count": 2,
   "metadata": {},
   "outputs": [],
   "source": [
    "npz = np.load('Audiobooks_data_train.npz')\n",
    "\n",
    "train_inputs = npz['inputs'].astype(np.float)\n",
    "train_targets = npz['targets'].astype(np.int)\n",
    "\n",
    "npz=np.load('Audiobooks_data_validation.npz')\n",
    "\n",
    "validation_inputs, validation_targets = npz['inputs'].astype(np.float) , npz['targets'].astype(np.int)\n",
    "\n",
    "npz=np.load('Audiobooks_data_test.npz')\n",
    "\n",
    "test_inputs,test_targets = npz['inputs'].astype(np.float), npz['targets'].astype(np.int)"
   ]
  },
  {
   "cell_type": "code",
   "execution_count": 3,
   "metadata": {},
   "outputs": [],
   "source": [
    "input_size = 10\n",
    "output_size = 2\n",
    "hidden_layer_size = 50\n",
    "\n",
    "model = tf.keras.Sequential([\n",
    "    tf.keras.layers.Dense(hidden_layer_size, activation='relu'),\n",
    "    tf.keras.layers.Dense(hidden_layer_size, activation='relu'),\n",
    "    tf.keras.layers.Dense(output_size, activation='softmax')    \n",
    "])"
   ]
  },
  {
   "cell_type": "code",
   "execution_count": 6,
   "metadata": {},
   "outputs": [],
   "source": [
    "model.compile(optimizer='adam', loss='sparse_categorical_crossentropy', metrics=['accuracy'])\n",
    "\n",
    "batch_size = 100\n",
    "\n",
    "max_epochs = 100\n",
    "\n",
    "early_stopping = tf.keras.callbacks.EarlyStopping(patience=2)"
   ]
  },
  {
   "cell_type": "code",
   "execution_count": 7,
   "metadata": {},
   "outputs": [
    {
     "name": "stdout",
     "output_type": "stream",
     "text": [
      "Epoch 1/100\n",
      "113/113 - 1s - loss: 0.2707 - accuracy: 0.9013 - val_loss: 0.2788 - val_accuracy: 0.8984\n",
      "Epoch 2/100\n",
      "113/113 - 0s - loss: 0.2534 - accuracy: 0.9063 - val_loss: 0.2756 - val_accuracy: 0.8977\n",
      "Epoch 3/100\n",
      "113/113 - 0s - loss: 0.2460 - accuracy: 0.9069 - val_loss: 0.2588 - val_accuracy: 0.9006\n",
      "Epoch 4/100\n",
      "113/113 - 0s - loss: 0.2414 - accuracy: 0.9087 - val_loss: 0.2501 - val_accuracy: 0.9048\n",
      "Epoch 5/100\n",
      "113/113 - 0s - loss: 0.2372 - accuracy: 0.9095 - val_loss: 0.2598 - val_accuracy: 0.9048\n",
      "Epoch 6/100\n",
      "113/113 - 0s - loss: 0.2333 - accuracy: 0.9107 - val_loss: 0.2475 - val_accuracy: 0.8991\n",
      "Epoch 7/100\n",
      "113/113 - 0s - loss: 0.2327 - accuracy: 0.9106 - val_loss: 0.2398 - val_accuracy: 0.9062\n",
      "Epoch 8/100\n",
      "113/113 - 0s - loss: 0.2310 - accuracy: 0.9104 - val_loss: 0.2421 - val_accuracy: 0.9055\n",
      "Epoch 9/100\n",
      "113/113 - 0s - loss: 0.2307 - accuracy: 0.9125 - val_loss: 0.2393 - val_accuracy: 0.9084\n",
      "Epoch 10/100\n",
      "113/113 - 0s - loss: 0.2275 - accuracy: 0.9120 - val_loss: 0.2366 - val_accuracy: 0.9070\n",
      "Epoch 11/100\n",
      "113/113 - 0s - loss: 0.2276 - accuracy: 0.9116 - val_loss: 0.2377 - val_accuracy: 0.9062\n",
      "Epoch 12/100\n",
      "113/113 - 0s - loss: 0.2283 - accuracy: 0.9117 - val_loss: 0.2384 - val_accuracy: 0.9070\n"
     ]
    },
    {
     "data": {
      "text/plain": [
       "<tensorflow.python.keras.callbacks.History at 0x25d81f1fc70>"
      ]
     },
     "execution_count": 7,
     "metadata": {},
     "output_type": "execute_result"
    }
   ],
   "source": [
    "model.fit(train_inputs,\n",
    "          train_targets,\n",
    "          batch_size = batch_size,\n",
    "          epochs = max_epochs,\n",
    "          callbacks=[early_stopping],\n",
    "          validation_data=(validation_inputs, validation_targets),\n",
    "          verbose = 2)"
   ]
  },
  {
   "cell_type": "markdown",
   "metadata": {},
   "source": [
    "#### Test the model"
   ]
  },
  {
   "cell_type": "code",
   "execution_count": 8,
   "metadata": {},
   "outputs": [
    {
     "name": "stdout",
     "output_type": "stream",
     "text": [
      "45/45 [==============================] - 0s 1ms/step - loss: 0.2161 - accuracy: 0.9155\n"
     ]
    }
   ],
   "source": [
    "test_loss, test_accuracy = model.evaluate(test_inputs, test_targets)"
   ]
  },
  {
   "cell_type": "code",
   "execution_count": 9,
   "metadata": {},
   "outputs": [
    {
     "name": "stdout",
     "output_type": "stream",
     "text": [
      "Test loss 0.22. Test accuracy: 91.55%\n"
     ]
    }
   ],
   "source": [
    "print('Test loss {0:.2f}. Test accuracy: {1:.2f}%'.format(test_loss, test_accuracy*100.))"
   ]
  },
  {
   "cell_type": "code",
   "execution_count": null,
   "metadata": {},
   "outputs": [],
   "source": []
  }
 ],
 "metadata": {
  "kernelspec": {
   "display_name": "Python 3",
   "language": "python",
   "name": "python3"
  },
  "language_info": {
   "codemirror_mode": {
    "name": "ipython",
    "version": 3
   },
   "file_extension": ".py",
   "mimetype": "text/x-python",
   "name": "python",
   "nbconvert_exporter": "python",
   "pygments_lexer": "ipython3",
   "version": "3.8.5"
  }
 },
 "nbformat": 4,
 "nbformat_minor": 4
}
